{
  "nbformat": 4,
  "nbformat_minor": 0,
  "metadata": {
    "colab": {
      "provenance": [],
      "include_colab_link": true
    },
    "kernelspec": {
      "name": "python3",
      "display_name": "Python 3"
    },
    "language_info": {
      "name": "python"
    }
  },
  "cells": [
    {
      "cell_type": "markdown",
      "metadata": {
        "id": "view-in-github",
        "colab_type": "text"
      },
      "source": [
        "<a href=\"https://colab.research.google.com/github/shubham-maral/Applied-Statistics-Project/blob/main/Applied_Statistics_Project_Shubham_Maral_.ipynb\" target=\"_parent\"><img src=\"https://colab.research.google.com/assets/colab-badge.svg\" alt=\"Open In Colab\"/></a>"
      ]
    },
    {
      "cell_type": "markdown",
      "source": [
        "# Customer Purchase Behavior Analysis using Descriptive Statistics"
      ],
      "metadata": {
        "id": "XVRRli7RVQFs"
      }
    },
    {
      "cell_type": "markdown",
      "source": [
        "##Problem Statement"
      ],
      "metadata": {
        "id": "jfhbp8ZDB7If"
      }
    },
    {
      "cell_type": "markdown",
      "source": [
        "🔍 **Problem Statement**:\n",
        "\n",
        "Welcome to the Probability and Statistics project! 📊🔍 In this exciting journey, you'll get the chance to apply the concepts you've learned in probability theory and statistics to analyze a real-world dataset. This project is your opportunity to dive deep into the world of data analysis and gain practical experience with the tools and techniques you've been learning. 🚀\n",
        "\n",
        "🎯 **Objective**:\n",
        "\n",
        "Your mission is to analyze the provided dataset containing customer information and purchasing behavior to make informed decisions. Your goal is to identify patterns, trends, and correlations that will help your company optimize its marketing efforts and increase offer acceptance rates. 🎉"
      ],
      "metadata": {
        "id": "EB1yLJOSV1gx"
      }
    },
    {
      "cell_type": "markdown",
      "source": [
        "##About the Dataset"
      ],
      "metadata": {
        "id": "C6I6fCk2B4W-"
      }
    },
    {
      "cell_type": "markdown",
      "source": [
        "\n",
        "\n",
        "Here's the link to the [dataset](https://docs.google.com/spreadsheets/d/12ln9iTNcVNOMYi_AU-OczKpa_KIP8XyVbsjk81Na8Yk/edit?usp=sharing)\n",
        "\n",
        "\n",
        "This data was gathered during last year's campaign.\n",
        "Data description is as follows;\n",
        "\n",
        "1. Response (target) - 1 if customer accepted the offer in the last campaign, 0 otherwise\n",
        "1. ID - Unique ID of each customer\n",
        "1. Year_Birth - Age of the customer\n",
        "1. Complain - 1 if the customer complained in the last 2 years\n",
        "1. Dt_Customer - date of customer's enrollment with the company\n",
        "1. Education - customer's level of education\n",
        "1. Marital - customer's marital status\n",
        "1. Kidhome - number of small children in customer's household\n",
        "1. Teenhome - number of teenagers in customer's household\n",
        "1. Income - customer's yearly household income\n",
        "1. MntFishProducts - the amount spent on fish products in the last 2 years\n",
        "1. MntMeatProducts - the amount spent on meat products in the last 2 years\n",
        "1. MntFruits - the amount spent on fruits products in the last 2 years\n",
        "1. MntSweetProducts - amount spent on sweet products in the last 2 years\n",
        "1. MntWines - the amount spent on wine products in the last 2 years\n",
        "1. MntGoldProds - the amount spent on gold products in the last 2 years\n",
        "1. NumDealsPurchases - number of purchases made with discount\n",
        "1. NumCatalogPurchases - number of purchases made using catalog (buying goods to be shipped through the mail)\n",
        "1. NumStorePurchases - number of purchases made directly in stores\n",
        "1. NumWebPurchases - number of purchases made through the company's website\n",
        "1. NumWebVisitsMonth - number of visits to company's website in the last month\n",
        "1. Recency - number of days since the last purchase\n",
        "\n",
        "\n",
        "\n"
      ],
      "metadata": {
        "id": "E_yV1UBOAu7Z"
      }
    },
    {
      "cell_type": "markdown",
      "source": [
        "##Task 1 - Basic CleanUp\n",
        "\n",
        "- **Clean and preprocess the dataset (handling missing values, data types, etc.).**\n",
        "\n",
        "- **Analyze the distribution of customer demographics (age, education, marital status) using descriptive statistics and visualizations.**"
      ],
      "metadata": {
        "id": "HNjRqBCzXQww"
      }
    },
    {
      "cell_type": "markdown",
      "source": [
        "\n",
        "\n",
        "**Deliverables**:\n",
        "\n",
        "- **Cleaned and Preprocessed Dataset**:\n",
        "\n",
        "  Provide a detailed report on the steps taken to handle missing values, including imputation methods used if applicable.\n",
        "  Document the process of ensuring consistent data types for each variable, addressing any inconsistencies.\n",
        "\n",
        "- **Summary of Basic Statistics**:\n",
        "\n",
        "  Present calculated statistics such as mean, median, variance, and standard deviation for each relevant numerical variable.\n",
        "  Include a concise table or summary showcasing these measures for easy reference."
      ],
      "metadata": {
        "id": "AIUm4NpNX4vt"
      }
    },
    {
      "cell_type": "markdown",
      "source": [
        "##Task 2 - Descriptive Statistics 📊\n",
        "\n",
        "- **Calculate measures of central tendency (mean, median, mode) and measures of dispersion (variance, standard deviation) for key variables. Identify and handle outliers if necessary.**\n"
      ],
      "metadata": {
        "id": "bDza2Cu0YpE6"
      }
    },
    {
      "cell_type": "markdown",
      "source": [
        "**Deliverables**:\n",
        "\n",
        "- **Descriptive statistics that reveal the central tendencies, variations, and potential outliers in the dataset.**:\n",
        "\n",
        "  "
      ],
      "metadata": {
        "id": "pGrBYXGWZtYe"
      }
    },
    {
      "cell_type": "markdown",
      "source": [
        "## Task 3 - Probability Distributions 🎲\n",
        "\n",
        "- **Identify variables that could follow specific probability distributions (e.g., Binomial, Normal). Calculate probabilities and expected values based on these distributions.**\n",
        "\n"
      ],
      "metadata": {
        "id": "GCB3OLxXaSCZ"
      }
    },
    {
      "cell_type": "markdown",
      "source": [
        "**Deliverables**:\n",
        "\n",
        "- **Determination of suitable probability distributions for relevant variables and corresponding calculated probabilities and expected values.**:\n",
        "\n",
        "  "
      ],
      "metadata": {
        "id": "kgjtExiJay2_"
      }
    },
    {
      "cell_type": "markdown",
      "source": [
        "## Task 4: Insights and Customer Segmentation 📈\n",
        "\n",
        "- **Explore relationships between customer characteristics and spending habits. Segment customers based on their behaviors and characteristics.**"
      ],
      "metadata": {
        "id": "ZSHZP8wgcIKE"
      }
    },
    {
      "cell_type": "markdown",
      "source": [
        "**Deliverables**:\n",
        "\n",
        "- **Key insights regarding relationships between variables and distinct customer segments based on behaviors.**\n",
        "\n",
        "  "
      ],
      "metadata": {
        "id": "1UYOJxazcRi3"
      }
    },
    {
      "cell_type": "markdown",
      "source": [
        "## Task 5: Conclusion and Recommendations\n",
        "\n",
        "- **Create clear visualizations to showcase your findings. Use insights to make recommendations for the company based on your analysis.**"
      ],
      "metadata": {
        "id": "Fv6iVJbgiwf2"
      }
    },
    {
      "cell_type": "markdown",
      "source": [
        "**Deliverables**:\n",
        "\n",
        "- **Well-designed visualizations that visually represent your insights and actionable recommendations based on customer behavior analysis.**"
      ],
      "metadata": {
        "id": "-z5hEuOejQjd"
      }
    },
    {
      "cell_type": "markdown",
      "source": [
        "## Bonus Task - Geogebra Experiment\n",
        "\n"
      ],
      "metadata": {
        "id": "Fib_ksA9jmii"
      }
    },
    {
      "cell_type": "markdown",
      "source": [
        "Here's the link to an intriguing GeoGebra experiment: [GeoGebra Experiment Link](https://www.geogebra.org/m/LZbwMZtJ)\n",
        "\n",
        "This experiment lets you simulate coin flips as per your preferences and specifications!\n",
        "\n",
        "Your task involves recording a video where you'll explain the concept of the **Law of Large Numbers** using this experiment. Dive further into the experience by adjusting the number of coins and exploring varying coin biases. 🪙📹🔍"
      ],
      "metadata": {
        "id": "olsEhR8RjsIF"
      }
    }
  ]
}